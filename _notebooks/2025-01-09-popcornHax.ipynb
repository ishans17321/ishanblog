{
 "cells": [
  {
   "cell_type": "raw",
   "metadata": {
    "vscode": {
     "languageId": "raw"
    }
   },
   "source": [
    "---\n",
    "layout: post\n",
    "title: Variables Popcorn Hax\n",
    "description: Exercises to do mid-lesson, when instructed. Designed to be fairly easy and help you apply a basic understanding of variables you should already have from the lesson.\n",
    "type: collab\n",
    "comments: false\n",
    "categories: [CSSE JavaScript Fundamentals]\n",
    "permalink: /csse/lessons/variables/popcornHax\n",
    "---"
   ]
  },
  {
   "cell_type": "markdown",
   "metadata": {},
   "source": [
    "<h1>Popcorn Hax</h1>\n",
    "\n",
    "To access printed results using console.log, follow this simple set of steps.\n",
    "1: Access the \"Help\" button near the top of your screen (next to to \"Terminal\" and \"Window). It looks something like this on macOS:<br>\n",
    "<img width=\"844\" alt=\"image\" src=\"https://github.com/user-attachments/assets/18465a9b-e7e3-4f9d-8653-3ede47e2dfc6\" />\n",
    "<br>\n",
    "After clicking help, the drop-down menu should have a \"Toggle Developer Tools\" option. Click it, and navigate to the console menu.\n",
    "Then, look for a little O with a line through it. Click this to clear the console.\n",
    "\n",
    "<h2>Lesson 1, Exercise 1:</h2><br>\n",
    "Define a variable \"charHealth\" as an integer value of 100. Then, run a command to print the value and type of charHealth.\n"
   ]
  },
  {
   "cell_type": "code",
   "execution_count": 41,
   "metadata": {
    "vscode": {
     "languageId": "javascript"
    }
   },
   "outputs": [
    {
     "data": {
      "application/javascript": "//On this line, define charHealth.\n\n//Run the command to print charHealth's value here.\n\n//Run the command to check the type of variable here.\n",
      "text/plain": [
       "<IPython.core.display.Javascript object>"
      ]
     },
     "metadata": {},
     "output_type": "display_data"
    }
   ],
   "source": [
    "// On this line, define charHealth.\n",
    "let charHealth = 100;\n",
    "\n",
    "// Run the command to print charHealth's value here.\n",
    "console.log(charHealth);\n",
    "\n",
    "// Run the command to check the type of variable here.\n",
    "console.log(typeof charHealth);\n"
   ]
  },
  {
   "cell_type": "markdown",
   "metadata": {},
   "source": [
    "<h2>Exercise 2:</h2><br>\n",
    "Define two variables: \"charHealth\" and \"damage\". Then, combine the two to update charHealth. Make sure they are the same type of variable - otherwise, you will not be able to combine them."
   ]
  },
  {
   "cell_type": "code",
   "execution_count": 42,
   "metadata": {
    "vscode": {
     "languageId": "javascript"
    }
   },
   "outputs": [
    {
     "data": {
      "application/javascript": "//Define variables up here. Make sure they are both number values.\nlet charHealth = 100.0;\nconst damage = 13.5;\n//Update charHealth after the player has taken damage. The character should lose health relative to damage taken. Print your results.\ncharHealth -= damage;\nconsole.log(charHealth);\n",
      "text/plain": [
       "<IPython.core.display.Javascript object>"
      ]
     },
     "metadata": {},
     "output_type": "display_data"
    }
   ],
   "source": [
    "%%js\n",
    "// Define variables up here. Make sure they are both number values.\n",
    "let charHealth = 100; // Initial health\n",
    "let damageTaken = 20; // Amount of damage taken\n",
    "\n",
    "// Update charHealth after the player has taken damage.\n",
    "charHealth -= damageTaken;\n",
    "\n",
    "// Print your results.\n",
    "console.log(\"Updated Character Health:\", charHealth);\n"
   ]
  },
  {
   "cell_type": "markdown",
   "metadata": {},
   "source": [
    "<h2>Exercise 3:</h2><br>\n",
    "Create two parts of a message, and store each part as a separate variable. Combine these variables into a new one, finalMessage, and print its results."
   ]
  },
  {
   "cell_type": "code",
   "execution_count": 43,
   "metadata": {
    "vscode": {
     "languageId": "javascript"
    }
   },
   "outputs": [
    {
     "data": {
      "application/javascript": "//Define variables and combine them here\nlet messagePart1 = \nlet messagePart2 = \nlet finalMessage = \n//Print results here.\nconsole.log();//Insert variable\n",
      "text/plain": [
       "<IPython.core.display.Javascript object>"
      ]
     },
     "metadata": {},
     "output_type": "display_data"
    }
   ],
   "source": [
    "%%js\n",
    "// Define variables and combine them here\n",
    "let messagePart1 = \"Hello, \"; // First part of the message\n",
    "let messagePart2 = \"world!\";  // Second part of the message\n",
    "let finalMessage = messagePart1 + messagePart2; // Combine the messages\n",
    "\n",
    "// Print results here.\n",
    "console.log(finalMessage); // Insert variable\n",
    "\n"
   ]
  },
  {
   "cell_type": "markdown",
   "metadata": {},
   "source": [
    "<b1>\n",
    "Make sure to end each line with a semicolon (;). \n",
    "<br>Part 2: Using this if conditional, see if you can get the console to output \"You have successfully manipulated these strings! Good Job!\" If you don't get the desired result, try again.\n",
    "</b1>"
   ]
  },
  {
   "cell_type": "code",
   "execution_count": 51,
   "metadata": {
    "vscode": {
     "languageId": "javascript"
    }
   },
   "outputs": [
    {
     "data": {
      "application/javascript": "let m1 = \"Hello, \";\nlet m2 = \"\"; //Edit this \nconst messageSuccess = \"You have successfully manipulated these strings! Good Job!\"\nif (m1 + m2 === \"Hello, world!\"){\n    console.log(messageSuccess);\n} else {\n    console.log(\"Failed to match strings. Try again.\");\n}\n",
      "text/plain": [
       "<IPython.core.display.Javascript object>"
      ]
     },
     "metadata": {},
     "output_type": "display_data"
    }
   ],
   "source": [
    "%%js\n",
    "// Define variables and combine them here\n",
    "let messagePart1 = \"Hello, \"; // First part of the message\n",
    "let messagePart2 = \"world!\";  // Second part of the message\n",
    "let finalMessage = messagePart1 + messagePart2; // Co\n",
    "// mbine the messages\n",
    "\n",
    "// Print results here.\n",
    "console.log(finalMessage); // Insert variable\n"
   ]
  },
  {
   "cell_type": "markdown",
   "metadata": {},
   "source": [
    "Try defining a score variable and a string that displays the player's score. A very basic version of this has been set up for you here, using Math.random() to get a random number."
   ]
  },
  {
   "cell_type": "code",
   "execution_count": 70,
   "metadata": {
    "vscode": {
     "languageId": "javascript"
    }
   },
   "outputs": [
    {
     "data": {
      "application/javascript": "let gambling = Math.round(100 * Math.random()) //Random integer from 0 to 100\nlet gamblingTalk = `Your random number is ${gambling}! Spin again?`//Use graves and ${} to make gamblingTalk contain the random number.\n\nconsole.log(gamblingTalk); //Print gamblingTalk.\n",
      "text/plain": [
       "<IPython.core.display.Javascript object>"
      ]
     },
     "metadata": {},
     "output_type": "display_data"
    }
   ],
   "source": [
    "%%js\n",
    "let gambling = Math.round(100 * Math.random()); // Random integer from 0 to 100\n",
    "let gamblingTalk = `Your random number is ${gambling}. Let's see if luck is on your side!`; // Use graves and ${} to create the message\n",
    "\n",
    "console.log(gamblingTalk); // Print gamblingTalk\n"
   ]
  },
  {
   "cell_type": "markdown",
   "metadata": {},
   "source": [
    "Lastly, here's a quick way to learn the difference between =, ==, and ===."
   ]
  },
  {
   "cell_type": "code",
   "execution_count": 45,
   "metadata": {
    "vscode": {
     "languageId": "javascript"
    }
   },
   "outputs": [
    {
     "data": {
      "application/javascript": "let m1 = \"1\"; //Note the data types present in these two variables. This is a string.\nlet m2 = 1; //This is a number.\nconsole.log();\n//Use a loose equality and see what the computer thinks about m1 and m2.\nconsole.log();\n//Use a strict equality and see what the computer says. Why are your results different?\n",
      "text/plain": [
       "<IPython.core.display.Javascript object>"
      ]
     },
     "metadata": {},
     "output_type": "display_data"
    }
   ],
   "source": [
    "%%js\n",
    "let m1 = \"1\"; // This is a string.\n",
    "let m2 = 1;   // This is a number.\n",
    "\n",
    "// Use a loose equality and see what the computer thinks about m1 and m2.\n",
    "console.log(m1 == m2); // Loose equality compares values after type coercion.\n",
    "\n",
    "// Use a strict equality and see what the computer says.\n",
    "console.log(m1 === m2); // Strict equality compares values without type coercion.\n"
   ]
  },
  {
   "cell_type": "markdown",
   "metadata": {},
   "source": [
    "<h2>Exercise 4:</h2><br>\n",
    "Here, a Math.random function creates a number from 0 to 1. Using the conditional set up for you and your knowledge of booleans, create a system that checks if the number created is greater than 0.7."
   ]
  },
  {
   "cell_type": "code",
   "execution_count": null,
   "metadata": {
    "vscode": {
     "languageId": "javascript"
    }
   },
   "outputs": [],
   "source": [
    "%%js\n",
    "let isGreaterThan = false; // Default value should be false\n",
    "let randomNum = Math.random(); // Generates a random number between 0 and 1\n",
    "\n",
    "if (randomNum > 0.7) { // Check if the random number is greater than 0.7\n",
    "    isGreaterThan = true;\n",
    "} \n",
    "console.log(`Random Number: ${randomNum}`);\n",
    "console.log(`Is the random number greater than 0.7? ${isGreaterThan}`); // Output the value of isGreaterThan\n"
   ]
  },
  {
   "cell_type": "markdown",
   "metadata": {},
   "source": [
    "<h2>Exercise 5:</h2><br>\n",
    "- Fix this code to correctly output the type of data message1 is.\n",
    "- In code, undefined and null are not used intentionally very often. This exercise is an example on why it is useful: since message1 is not defined, you can check this with console.log(). If this results in an undefined output, you can go change the variable to be correctly defined."
   ]
  },
  {
   "cell_type": "code",
   "execution_count": 47,
   "metadata": {
    "vscode": {
     "languageId": "javascript"
    }
   },
   "outputs": [
    {
     "data": {
      "application/javascript": "//This is a very open-ended exercise. What type of variable to you want message1 to be? Depending on your answer, you will define message1 differently.\nlet message1; //Change this.\nconsole.log(message1);\nconsole.log(typeof message1);\n",
      "text/plain": [
       "<IPython.core.display.Javascript object>"
      ]
     },
     "metadata": {},
     "output_type": "display_data"
    }
   ],
   "source": [
    "%%js\n",
    "// This is a very open-ended exercise. Let's make message1 represent if the player is alive.\n",
    "let isAlive = true; // Boolean type variable indicating the player's status.\n",
    "\n",
    "let message1 = isAlive ? \"The player is alive.\" : \"The player is dead.\"; // Ternary operator to set message1.\n",
    "\n",
    "console.log(isAlive); // Output the variable.\n",
    "console.log(typeof isAlive); // Output its type.\n",
    "console.log(message1); // Output the message based on the player's status.\n"
   ]
  },
  {
   "cell_type": "markdown",
   "metadata": {},
   "source": [
    "<h2>Exercise 6:</h2><br>\n",
    "Create a bigInt with a value of your choosing. Check to make sure it's a big enough number. The highest number in JS is 9007199254740990, and can be referenced with the property Number.MAX_SAFE_INTEGER."
   ]
  },
  {
   "cell_type": "code",
   "execution_count": 48,
   "metadata": {
    "vscode": {
     "languageId": "javascript"
    }
   },
   "outputs": [
    {
     "data": {
      "application/javascript": "let bigNumber = //Pick a big number!\nlet x = Number.MAX_SAFE_INTEGER;\nconsole.log(bigNumber > x); //Checks to make sure your number is big enough. True = yes.\nconsole.log(bigNumber)\n",
      "text/plain": [
       "<IPython.core.display.Javascript object>"
      ]
     },
     "metadata": {},
     "output_type": "display_data"
    }
   ],
   "source": [
    "%%js\n",
    "let bigNumber = 9007199254740992n; // Pick a big number and end it with `n` to make it a BigInt.\n",
    "let x = Number.MAX_SAFE_INTEGER;\n",
    "\n",
    "console.log(bigNumber > x); // Check to make sure your number is bigger than x. Should output \"true\".\n",
    "console.log(bigNumber); // Big number go brrrrr\n"
   ]
  },
  {
   "cell_type": "markdown",
   "metadata": {},
   "source": [
    "<h2>Exercise 7:</h2><br>\n",
    "- Create a \"player\" object with as many properties as you can think of. A minimum of 5 properties and at least 3 different types of variables must be used to complete this exercise.\n",
    "- After this, print 2 of those variables. One has already been done for you, and the other started. Lastly, change the player's health and print it again."
   ]
  },
  {
   "cell_type": "code",
   "execution_count": 49,
   "metadata": {
    "vscode": {
     "languageId": "javascript"
    }
   },
   "outputs": [
    {
     "data": {
      "application/javascript": "//A few variables are included for you already, fill the rest in on your own.\nlet player = {\n    name: \"pika43\", //Replace with your name/gamertag.\n    health: 25 //commas between every term, except the last one.\n\n\n\n};\n//Reference your parts here.\nconsole.log(player.name);\nconsole.log(player.);//Put something after the period to reference it from the object, player.\n\n\n//Change and reference player's health\nplayer.health = ;\nconsole.log(player.health); //new health \n",
      "text/plain": [
       "<IPython.core.display.Javascript object>"
      ]
     },
     "metadata": {},
     "output_type": "display_data"
    }
   ],
   "source": [
    "// A few variables are included for you already, fill the rest in on your own.\n",
    "let player = {\n",
    "    name: \"pika43\", // Replace with your name/gamertag.\n",
    "    health: 25 // Commas between every term, except the last one.\n",
    "};\n",
    "\n",
    "// Reference your parts here. Add one final console.log() and just print player. See what happens.\n",
    "console.log(player.name);\n",
    "\n",
    "// Change and reference player's health\n",
    "player.health = 50; // Assign new health value\n",
    "console.log(player.health); // New health\n",
    "\n",
    "// Print the entire player object\n",
    "console.log(player);\n"
   ]
  },
  {
   "cell_type": "markdown",
   "metadata": {},
   "source": [
    "<h2>Exercise 8:</h2><br>\n",
    "Create a \"user\" object with a password variable as a symbol. Other than that, customize the object similarly to the previous exercise (Minimum of 5 variables, minimum of 3 types). There's a nifty little bonus at the bottom of this exercise which shows the power of symbols."
   ]
  },
  {
   "cell_type": "code",
   "execution_count": 50,
   "metadata": {
    "vscode": {
     "languageId": "javascript"
    }
   },
   "outputs": [
    {
     "data": {
      "application/javascript": "const password = Symbol(); //Defines the password symbol. It's okay to leave his empty, as you will assign the symbol a value in the object.\nconst backupPassword = Symbol(); //\nlet user ={\n    [password]:  //Assign the symbol a value here. \n    [backupPassword]:  //Assign your backup password a value. Make this the same as your default password.\n    username: \"pika43\" //Fill in the rest of the object's properties. Replace this username with your own.\n\n}\n//Referencing symbols looks like this:\nconsole.log(user[password]);\n//This outputs the value of \"password\" you assigned earlier.\n\n//Bonus!\nconsole.log(\"v THE POWER OF SYMBOLS v\"); //THE POWER OF SYMBOLS\n\nconst enemy1Damage = 15;\nconst enemy2MaxHealth = 15;\nconsole.log (enemy1Damage === enemy2MaxHealth);\n//This will output true, since both variables are numbers with the same value. \n//With constants that are used for different reasons, this can be a problem. \n//You wouldn't subtract an enemy's max health from your to deal damage! What if you need these two to be unique?\n\nconsole.log(password === backupPassword);\n//This, surprisingly, will output false. This is because each of these symbols are fully, entirely unique. \n// Even though both are symbol type variables with the same value stored inside them, the computer recognizes these both as fi\n",
      "text/plain": [
       "<IPython.core.display.Javascript object>"
      ]
     },
     "metadata": {},
     "output_type": "display_data"
    }
   ],
   "source": [
    "%%js \n",
    "const password = Symbol(); // Defines the password symbol.\n",
    "const backupPassword = Symbol(); // Defines the backup password symbol.\n",
    "\n",
    "let user = {\n",
    "    [password]: \"mySecurePassword123\", // Assign a value to the password symbol.\n",
    "    [backupPassword]: \"mySecurePassword123\", // Backup password, same as the default password.\n",
    "    username: \"pika43\" // Fill in the username property.\n",
    "};\n",
    "\n",
    "// Referencing symbols:\n",
    "console.log(user[password]); // Outputs the value of \"password\"."
   ]
  },
  {
   "cell_type": "markdown",
   "metadata": {},
   "source": [
    "<h2>Lesson 2, Exercise 1:</h2>\n",
    "<b1>\n",
    "btw, classes are thing that you will learn later. I'm not explaining them now jus roll with it\n",
    "</b1>"
   ]
  },
  {
   "cell_type": "markdown",
   "metadata": {},
   "source": [
    "Imagine this: you have a brand-spankin' shiny new game that you made, and you want to keep track of how many players you have. Using context clues and my helpful comments, fill in the blanks."
   ]
  },
  {
   "cell_type": "markdown",
   "metadata": {},
   "source": [
    "Next, try and see if you can make the player number increase."
   ]
  },
  {
   "cell_type": "code",
   "execution_count": 1,
   "metadata": {
    "vscode": {
     "languageId": "javascript"
    }
   },
   "outputs": [
    {
     "data": {
      "application/javascript": "class Player {\n    static ____ = 0 //Hmm I wonder what the constant, \"global\" variable could be in this context (pick from either totalPlayers or name)\n\n    constructor(name) {\n        this.____ = name // I wonder what name could be\n        this.id = ++Player.totalPlayers\n    }\n\n    static getTotalPlayers() { // this is the thing that will give you the number of players\n        return Player.totalPlayers\n    }\n}\nconst player1 = new Player(\"RedIsSus\")\nconst player2 = new Player(\"Jimmy\")\n// I wonder if making new players would increase the player count\n\nconsole.log(_______________) // you want to print the *function* that will give you the player numbers.\n",
      "text/plain": [
       "<IPython.core.display.Javascript object>"
      ]
     },
     "metadata": {},
     "output_type": "display_data"
    }
   ],
   "source": [
    "%%js class Player {\n",
    "    static totalPlayers = 0; // This is the constant, \"global\" variable for total players.\n",
    "\n",
    "    constructor(name) {\n",
    "        this.name = name; // Assign the player's name to the instance variable.\n",
    "        this.id = ++Player.totalPlayers; // Increment the total players count and assign an ID.\n",
    "    }\n",
    "\n",
    "    static getTotalPlayers() { // This static method returns the total number of players.\n",
    "        return Player.totalPlayers;\n",
    "    }\n",
    "}\n",
    "\n",
    "const player1 = new Player(\"RedIsSus\");\n",
    "const player2 = new Player(\"Jimmy\");\n",
    "\n",
    "// Making new players increases the player count.\n",
    "\n",
    "console.log(Player.getTotalPlayers()); // Call the function to get the total number of players.\n"
   ]
  },
  {
   "cell_type": "markdown",
   "metadata": {},
   "source": [
    "<h2>Exercise Dos</h2>"
   ]
  },
  {
   "cell_type": "code",
   "execution_count": null,
   "metadata": {
    "vscode": {
     "languageId": "javascript"
    }
   },
   "outputs": [],
   "source": [
    "%%js\n",
    "class Car {\n",
    "    constructor(color, model) {\n",
    "        this.color = color;    // Instance variable\n",
    "        this.model = model;    // Set up another instance variable\n",
    "    }\n",
    "}\n",
    "\n",
    "const car1 = new Car(\"Red \", \"2006 Nissan Murano\");\n",
    "const car2 = new Car(\"Blue \", \"2019 Toyota Corolla\");\n",
    "\n",
    "console.log(car1.color + car1.model);  // Prints car colors and models\n",
    "console.log(car2.color + car2.model);\n",
    "\n",
    "car1.color = \"Yellow \";    // Only changes car1\n",
    "console.log(car1.color + car1.model);  // Logs changes\n",
    "console.log(car2.color + car2.model);  // No change from earlier\n"
   ]
  }
 ],
 "metadata": {
  "kernelspec": {
   "display_name": "test2",
   "language": "python",
   "name": "python3"
  },
  "language_info": {
   "codemirror_mode": {
    "name": "ipython",
    "version": 3
   },
   "file_extension": ".py",
   "mimetype": "text/x-python",
   "name": "python",
   "nbconvert_exporter": "python",
   "pygments_lexer": "ipython3",
   "version": "3.13.1"
  }
 },
 "nbformat": 4,
 "nbformat_minor": 2
}

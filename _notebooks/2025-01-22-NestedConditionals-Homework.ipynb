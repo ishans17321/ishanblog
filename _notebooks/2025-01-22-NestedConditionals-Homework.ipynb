{
 "cells": [
  {
   "cell_type": "raw",
   "metadata": {
    "vscode": {
     "languageId": "raw"
    }
   },
   "source": [
    "---\n",
    "layout: post\n",
    "title: Nested Conditionals Homework\n",
    "description:  Homework for nested conditonals\n",
    "type: collab \n",
    "comments: false\n",
    "categories: [CSSE JavaScript Fundametals]\n",
    "permalink: /csse/lessons/nestedconditionals/hw\n",
    "---"
   ]
  },
  {
   "cell_type": "markdown",
   "metadata": {},
   "source": [
    "### Homework Objectives\n",
    "\n",
    "You and your friend want to do different things at the amusement park. To decide, you do a coin flip. Heads means that you get to choose where to go and tails means that your friend gets to choose. If you go on a ride, be sure to check if you are the right height and have enough tickets, and if you go to a food stand, make sure that you have enough money and that the food is in stock. Be creative, and make sure to use nested conditionals!"
   ]
  },
  {
   "cell_type": "markdown",
   "metadata": {},
   "source": [
    "### Instructions\n",
    "\n",
    "1) Create a JavaScript file (Ex. insertName.js)\n",
    "\n",
    "2) Plan out what you will be doing and make variables for the necessary things. There will be a coin flip, so make a variable for that. If there are rides, make a value for the amount of tickets the person has and what height they are. If they go to a food stand, you can make a variable for the amount of money that you have and if the food is in stock.\n",
    "\n",
    "3) Use Math.random() for the coin flip. This generates a number between 0 and 1, so then you multiply this value by 2 and put it inside Math.floor() to round down and get either 0 or 1. Make this the coin flip variable.\n",
    "\n",
    "4) Use an if statement to check what the result of the coin flip was and use console.log to print out a statement to see who won or lost the coin flip. Along with that, print out where they are going next.\n",
    "\n",
    "5) Use more if statements inside of if statements to check if the person can do what they want to do. (Are they tall enough, do they have enough money, etc.)\n",
    "\n",
    "6) After all the checks, print out a result of what happened. If you get stuck, you can look at the examples in the popcorn hacks. Please don't copy and paste, though! \n"
   ]
  },
  {
   "cell_type": "raw",
   "metadata": {},
   "source": []
  },
  {
   "cell_type": "code",
   "execution_count": 1,
   "metadata": {
    "vscode": {
     "languageId": "javascript"
    }
   },
   "outputs": [
    {
     "data": {
      "application/javascript": "// Amusement Park Decision-Making \n\n// Step 1: Define the necessary variables\nlet coinFlip = Math.floor(Math.random() * 2); // Generates 0 or 1 for heads or tails\nlet tickets = 250; // Number of tickets available (increased to 200)\nlet height = 120; // Height of the person in cm\nlet money = 20; // Amount of money available in dollars\nlet foodInStock = true; // Boolean indicating if food is available\n\n// Step 2: Define ride and food requirements\nconst rideTicketCost = 30; // Increased ticket cost to 30 for each ride\nconst minHeight = 110; // Minimum height required for a ride\nconst foodCost = 15; // Cost of food in dollars\n\n// Step 3: Define ride names\nconst rides = [\n    \"The Roller Coaster of Doom\",\n    \"The Ferris Wheel of Fun\",\n    \"The Space Rocket Adventure\",\n    \"The Pirate Ship of Terror\",\n    \"The Ghost Train of Frights\"\n];\n\n// Step 4: Coin flip result to decide who chooses\nif (coinFlip === 0) {\n    console.log(\"Heads! You get to choose what to do.\");\n} else {\n    console.log(\"Tails! Your friend gets to choose what to do.\");\n}\n\n// Step 5: Go on all 5 rides for both friends\nconsole.log(\"You and your friend are going to go on all five rides!\");\n\n// Function to handle going on a ride\nfunction goOnRide(rideName, isFriend) {\n    console.log(`${isFriend ? \"Your friend\" : \"You\"} are about to go on the ride: ${rideName}`);\n    \n    // Check if both friends are tall enough and have enough tickets\n    if (height >= minHeight) {\n        if (tickets >= rideTicketCost) {\n            tickets -= rideTicketCost; // Deduct tickets\n            console.log(`${isFriend ? \"Your friend\" : \"You\"} went on the ride! Tickets remaining: ${tickets}`);\n        } else {\n            console.log(`${isFriend ? \"Your friend\" : \"You\"} don't have enough tickets to go on the ride.`);        }\n    } else {\n        console.log(`${isFriend ? \"Your friend\" : \"You\"} are not tall enough to go on the ride.`);\n    }\n}\n\n// Loop through all rides for both friends (each friend can only go on each ride once)\nrides.forEach((ride, index) => {\n    console.log(`\\nRide ${index + 1}: ${ride}`);\n    goOnRide(ride, false); // First friend goes on the ride\n    goOnRide(ride, true); // Second friend goes on the ride\n});\n\n// Step 6: After all rides, your friend chooses food\nconsole.log(\"\\nAfter the rides, it's time for food!\");\n\n// Display available food stalls\nconst foodStalls = [\"Burger Stand\", \"Pizza Stand\", \"Cake Stand\"];\nconsole.log(\"Here are the available food stalls:\");\nfoodStalls.forEach((stall, index) => {\n    console.log(`${index + 1}: ${stall}`);\n});\n\n// Nested conditionals for food (random choice)\nlet selectedFood = Math.floor(Math.random() * foodStalls.length); // Randomly select a food stall\nconsole.log(`Your friend decides to go to the ${foodStalls[selectedFood]}`);\n\nif (foodInStock) {\n    if (money >= foodCost) {\n        money -= foodCost; // Deduct money\n        console.log(`Your friend bought food. Money remaining: $${money}`);\n    } else {\n        console.log(\"Your friend doesn't have enough money to buy food.\");\n    }\n} else {\n    console.log(\"The food is out of stock.\");\n}\n\n// Final result\nconsole.log(\"Enjoy your day at the amusement park!\");\n",
      "text/plain": [
       "<IPython.core.display.Javascript object>"
      ]
     },
     "metadata": {},
     "output_type": "display_data"
    }
   ],
   "source": [
    "%%js \n",
    "// Amusement Park Decision-Making \n",
    "\n",
    "// Step 1: Define the necessary variables\n",
    "let coinFlip = Math.floor(Math.random() * 2); // Generates 0 or 1 for heads or tails\n",
    "let tickets = 250; // Number of tickets available (increased to 200)\n",
    "let height = 120; // Height of the person in cm\n",
    "let money = 20; // Amount of money available in dollars\n",
    "let foodInStock = true; // Boolean indicating if food is available\n",
    "\n",
    "// Step 2: Define ride and food requirements\n",
    "const rideTicketCost = 30; // Increased ticket cost to 30 for each ride\n",
    "const minHeight = 110; // Minimum height required for a ride\n",
    "const foodCost = 15; // Cost of food in dollars\n",
    "\n",
    "// Step 3: Define ride names\n",
    "const rides = [\n",
    "    \"The Roller Coaster of Doom\",\n",
    "    \"The Ferris Wheel of Fun\",\n",
    "    \"The Space Rocket Adventure\",\n",
    "    \"The Pirate Ship of Terror\",\n",
    "    \"The Ghost Train of Frights\"\n",
    "];\n",
    "\n",
    "// Step 4: Coin flip result to decide who chooses\n",
    "if (coinFlip === 0) {\n",
    "    console.log(\"Heads! You get to choose what to do.\");\n",
    "} else {\n",
    "    console.log(\"Tails! Your friend gets to choose what to do.\");\n",
    "}\n",
    "\n",
    "// Step 5: Go on all 5 rides for both friends\n",
    "console.log(\"You and your friend are going to go on all five rides!\");\n",
    "\n",
    "// Function to handle going on a ride\n",
    "function goOnRide(rideName, isFriend) {\n",
    "    console.log(`${isFriend ? \"Your friend\" : \"You\"} are about to go on the ride: ${rideName}`);\n",
    "    \n",
    "    // Check if both friends are tall enough and have enough tickets\n",
    "    if (height >= minHeight) {\n",
    "        if (tickets >= rideTicketCost) {\n",
    "            tickets -= rideTicketCost; // Deduct tickets\n",
    "            console.log(`${isFriend ? \"Your friend\" : \"You\"} went on the ride! Tickets remaining: ${tickets}`);\n",
    "        } else {\n",
    "            console.log(`${isFriend ? \"Your friend\" : \"You\"} don't have enough tickets to go on the ride.`);        }\n",
    "    } else {\n",
    "        console.log(`${isFriend ? \"Your friend\" : \"You\"} are not tall enough to go on the ride.`);\n",
    "    }\n",
    "}\n",
    "\n",
    "// Loop through all rides for both friends (each friend can only go on each ride once)\n",
    "rides.forEach((ride, index) => {\n",
    "    console.log(`\\nRide ${index + 1}: ${ride}`);\n",
    "    goOnRide(ride, false); // First friend goes on the ride\n",
    "    goOnRide(ride, true); // Second friend goes on the ride\n",
    "});\n",
    "\n",
    "// Step 6: After all rides, your friend chooses food\n",
    "console.log(\"\\nAfter the rides, it's time for food!\");\n",
    "\n",
    "// Display available food stalls\n",
    "const foodStalls = [\"Burger Stand\", \"Pizza Stand\", \"Cake Stand\"];\n",
    "console.log(\"Here are the available food stalls:\");\n",
    "foodStalls.forEach((stall, index) => {\n",
    "    console.log(`${index + 1}: ${stall}`);\n",
    "});\n",
    "\n",
    "// Nested conditionals for food (random choice)\n",
    "let selectedFood = Math.floor(Math.random() * foodStalls.length); // Randomly select a food stall\n",
    "console.log(`Your friend decides to go to the ${foodStalls[selectedFood]}`);\n",
    "\n",
    "if (foodInStock) {\n",
    "    if (money >= foodCost) {\n",
    "        money -= foodCost; // Deduct money\n",
    "        console.log(`Your friend bought food. Money remaining: $${money}`);\n",
    "    } else {\n",
    "        console.log(\"Your friend doesn't have enough money to buy food.\");\n",
    "    }\n",
    "} else {\n",
    "    console.log(\"The food is out of stock.\");\n",
    "}\n",
    "\n",
    "// Final result\n",
    "console.log(\"Enjoy your day at the amusement park!\");\n"
   ]
  }
 ],
 "metadata": {
  "kernelspec": {
   "display_name": "Python 3",
   "language": "python",
   "name": "python3"
  },
  "language_info": {
   "codemirror_mode": {
    "name": "ipython",
    "version": 3
   },
   "file_extension": ".py",
   "mimetype": "text/x-python",
   "name": "python",
   "nbconvert_exporter": "python",
   "pygments_lexer": "ipython3",
   "version": "3.11.9"
  }
 },
 "nbformat": 4,
 "nbformat_minor": 2
}

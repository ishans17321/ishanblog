{
 "cells": [
  {
   "cell_type": "raw",
   "metadata": {
    "vscode": {
     "languageId": "raw"
    }
   },
   "source": [
    "---\n",
    "layout: post\n",
    "title: Nested Conditionals Popcorn Hack One\n",
    "description:  First popcorn hack for nested conditonals\n",
    "type: collab \n",
    "comments: false\n",
    "categories: [CSSE JavaScript Fundametals]\n",
    "permalink: /csse/lessons/nestedconditionals/ph1\n",
    "---"
   ]
  },
  {
   "cell_type": "markdown",
   "metadata": {},
   "source": [
    "### Popcorn Hack 1\n",
    "\n",
    "This code has the option to let the player go on a ride of their choosing, and either lets them go on the ride or does not let them go on the ride based on their amount of tickets that they have. Try adding some code that makes it so that the code also takes into account the height of the person trying to ride the ride and have it be another constraint that determines whether or not the person goes on a ride."
   ]
  },
  {
   "cell_type": "code",
   "execution_count": 12,
   "metadata": {
    "vscode": {
     "languageId": "html"
    }
   },
   "outputs": [
    {
     "data": {
      "text/html": [
       "<!-- HTML output div -->\n",
       "<div id=\"message\"></div>\n",
       "<script>\n",
       "    function runWhenDOMLoaded() {\n",
       "        let ticketAmount = 100; // Makes the ticket amount be 100\n",
       "        let ride = \"Ferris Wheel\"; // Sets the ride the person wants to ride on\n",
       "        let riderHeight = 65; // Sets the rider's height to be 65 inches\n",
       "        const messageElement = document.getElementById(\"message\");\n",
       "\n",
       "        function displayMessage(message) { // Removed backslash here\n",
       "            console.log(message); // Log to console\n",
       "            messageElement.textContent = message; // Display on the webpage\n",
       "        }\n",
       "\n",
       "        function enoughTickets(a, height) { // Added a second parameter for height\n",
       "            if (ticketAmount >= a) {\n",
       "                if (height >= 54) { // Added nested if-else to check for height\n",
       "                    displayMessage(\"You have enough tickets and are tall enough to ride! Yay! :D\");\n",
       "                } else {\n",
       "                    displayMessage(\"You have enough tickets, but you're not tall enough to ride... :(\");\n",
       "                }\n",
       "            } else {\n",
       "                displayMessage(\"You don't have enough tickets... :(\");\n",
       "            }\n",
       "        }\n",
       "\n",
       "        if (ride === \"Roller Coaster\") {\n",
       "            enoughTickets(60, riderHeight); // Passed both ticket amount and height\n",
       "        } else if (ride === \"Ferris Wheel\") {\n",
       "            enoughTickets(40, riderHeight); // Adjusted ticket amount for Ferris Wheel\n",
       "        }    \n",
       "    }\n",
       "\n",
       "    // Ensure the function runs only after the page loads\n",
       "    if (document.readyState === \"loading\") {\n",
       "        document.addEventListener(\"DOMContentLoaded\", runWhenDOMLoaded);\n",
       "    } else {\n",
       "        runWhenDOMLoaded();\n",
       "    }\n",
       "</script>\n"
      ],
      "text/plain": [
       "<IPython.core.display.HTML object>"
      ]
     },
     "metadata": {},
     "output_type": "display_data"
    }
   ],
   "source": [
    "%%html\n",
    "<!-- HTML output div -->\n",
    "<div id=\"message\"></div>\n",
    "<script>\n",
    "    function runWhenDOMLoaded() {\n",
    "        let ticketAmount = 100; // Makes the ticket amount be 100\n",
    "        let ride = \"Ferris Wheel\"; // Sets the ride the person wants to ride on\n",
    "        let riderHeight = 65; // Sets the rider's height to be 65 inches\n",
    "        const messageElement = document.getElementById(\"message\");\n",
    "\n",
    "        function displayMessage(message) { // Removed backslash here\n",
    "            console.log(message); // Log to console\n",
    "            messageElement.textContent = message; // Display on the webpage\n",
    "        }\n",
    "\n",
    "        function enoughTickets(a, height) { // Added a second parameter for height\n",
    "            if (ticketAmount >= a) {\n",
    "                if (height >= 54) { // Added nested if-else to check for height\n",
    "                    displayMessage(\"You have enough tickets and are tall enough to ride! Yay! :D\");\n",
    "                } else {\n",
    "                    displayMessage(\"You have enough tickets, but you're not tall enough to ride... :(\");\n",
    "                }\n",
    "            } else {\n",
    "                displayMessage(\"You don't have enough tickets... :(\");\n",
    "            }\n",
    "        }\n",
    "\n",
    "        if (ride === \"Roller Coaster\") {\n",
    "            enoughTickets(60, riderHeight); // Passed both ticket amount and height\n",
    "        } else if (ride === \"Ferris Wheel\") {\n",
    "            enoughTickets(40, riderHeight); // Adjusted ticket amount for Ferris Wheel\n",
    "        }    \n",
    "    }\n",
    "\n",
    "    // Ensure the function runs only after the page loads\n",
    "    if (document.readyState === \"loading\") {\n",
    "        document.addEventListener(\"DOMContentLoaded\", runWhenDOMLoaded);\n",
    "    } else {\n",
    "        runWhenDOMLoaded();\n",
    "    }\n",
    "</script>\n"
   ]
  }
 ],
 "metadata": {
  "kernelspec": {
   "display_name": "Python 3",
   "language": "python",
   "name": "python3"
  },
  "language_info": {
   "codemirror_mode": {
    "name": "ipython",
    "version": 3
   },
   "file_extension": ".py",
   "mimetype": "text/x-python",
   "name": "python",
   "nbconvert_exporter": "python",
   "pygments_lexer": "ipython3",
   "version": "3.11.9"
  }
 },
 "nbformat": 4,
 "nbformat_minor": 2
}

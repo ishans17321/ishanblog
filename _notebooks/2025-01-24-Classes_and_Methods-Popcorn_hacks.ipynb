{
 "cells": [
  {
   "cell_type": "raw",
   "metadata": {
    "vscode": {
     "languageId": "raw"
    }
   },
   "source": [
    "---\n",
    "comments: true\n",
    "layout: post\n",
    "title: JavaScript Classes & Methods Popcorn Hacks\n",
    "description: JavaScript Classes & Methods Popcorn Hacks\n",
    "permalink: /csse/lessons/classes_and_methods/ph/\n",
    "categories: [CSSE JavaScript Fundamentals]\n",
    "---"
   ]
  },
  {
   "cell_type": "markdown",
   "metadata": {},
   "source": [
    "# JavaScript Classes and Methods - Interactive Popcorns \n",
    "In this notebook, you will learn about classes and methods in JavaScript. During the lesson, use these to enhance your understanding of clases and methods\n",
    "### \n",
    "- **Objectivs**: Do something - Change Later\n",
    "- **How**:\n",
    "\n"
   ]
  },
  {
   "cell_type": "markdown",
   "metadata": {},
   "source": [
    "#### Exercise 1: Create a Rectangle (aka a fridge)"
   ]
  },
  {
   "cell_type": "code",
   "execution_count": 21,
   "metadata": {
    "vscode": {
     "languageId": "javascript"
    }
   },
   "outputs": [
    {
     "data": {
      "application/javascript": "class rectangle{\n    constructor(width, height) {\n      this.width = width;\n      this.height = height;\n    }\n  \n  }\n  \n  \nconst rect1 = new Rectangle(20, 10,);\nconst rect2 = new Rectangle(40, 20,);\nconsole.log('${rect1.height}, ${rect1.width}')\n",
      "text/plain": [
       "<IPython.core.display.Javascript object>"
      ]
     },
     "metadata": {},
     "output_type": "display_data"
    }
   ],
   "source": [
    "%%js \n",
    "class rectangle{\n",
    "    constructor(width, height) {\n",
    "      this.width = width;\n",
    "      this.height = height;\n",
    "    }\n",
    "  \n",
    "  }\n",
    "  \n",
    "  \n",
    "const rect1 = new Rectangle(20, 10,);\n",
    "const rect2 = new Rectangle(40, 20,);\n",
    "console.log('${rect1.height}, ${rect1.width}')"
   ]
  },
  {
   "cell_type": "markdown",
   "metadata": {},
   "source": [
    "#### Exercise 2: Change Dimensions \n",
    "#### Use the Rectangle to:\n",
    "#### Part a.) Create a rectangle with a width of 20 and height of 40.\n",
    "#### Part b.) Change the dimensions to make the area 200 units²."
   ]
  },
  {
   "cell_type": "code",
   "execution_count": 22,
   "metadata": {
    "vscode": {
     "languageId": "javascript"
    }
   },
   "outputs": [
    {
     "data": {
      "application/javascript": "const rect1 = new Rectangle(40, 10);\nconsole.log(rect1.calcArea()); // Output: 800\nrect1.width = 10;\nrect1.height = 20;\nconsole.log(rect1.calcArea()); // Output: 200\n",
      "text/plain": [
       "<IPython.core.display.Javascript object>"
      ]
     },
     "metadata": {},
     "output_type": "display_data"
    }
   ],
   "source": [
    "%%js \n",
    "const rect1 = new Rectangle(40, 10);\n",
    "console.log(rect1.calcArea()); // Output: 800\n",
    "rect1.width = 10;\n",
    "rect1.height = 20;\n",
    "console.log(rect1.calcArea()); // Output: 200"
   ]
  },
  {
   "cell_type": "markdown",
   "metadata": {},
   "source": [
    "#### Exercise 3: Experiment with Areas\n",
    "#### a.) Find all pairs of dimensions that give an area of 48 units²."
   ]
  },
  {
   "cell_type": "code",
   "execution_count": 23,
   "metadata": {
    "vscode": {
     "languageId": "javascript"
    }
   },
   "outputs": [
    {
     "data": {
      "application/javascript": "const rect1 = new Rectangle(6, 8);\nconsole.log(rect1.calcArea()); // Output: 48\nconst rect2 = new Rectangle(12, 4);\nconsole.log(rect2.calcArea()); // Output: 48\nconst rect3 = new Rectangle(2,24):\nconsole.log(rect3.calcArea()); // Output: 48 \nconst rect4 = new Rectangle(1,48):\nconsole.log(rect4.calcArea()); // Output: 48 \nconst rect5 = new Rectangle(8, 6);\nconsole.log(rect5.calcArea()); // Output: 48\nconst rect6 = new Rectangle(4, 12);\nconsole.log(rect6.calcArea()); // Output: 48\nconst rect7 = new Rectangle(24,2):\nconsole.log(rect7.calcArea()); // Output: 48 \nconst rect8 = new Rectangle(48,1):\nconsole.log(rect8.calcArea()); // Output: 48 \n",
      "text/plain": [
       "<IPython.core.display.Javascript object>"
      ]
     },
     "metadata": {},
     "output_type": "display_data"
    }
   ],
   "source": [
    "%%js \n",
    "const rect1 = new Rectangle(6, 8);\n",
    "console.log(rect1.calcArea()); // Output: 48\n",
    "const rect2 = new Rectangle(12, 4);\n",
    "console.log(rect2.calcArea()); // Output: 48\n",
    "const rect3 = new Rectangle(2,24):\n",
    "console.log(rect3.calcArea()); // Output: 48 \n",
    "const rect4 = new Rectangle(1,48):\n",
    "console.log(rect4.calcArea()); // Output: 48 \n",
    "const rect5 = new Rectangle(8, 6);\n",
    "console.log(rect5.calcArea()); // Output: 48\n",
    "const rect6 = new Rectangle(4, 12);\n",
    "console.log(rect6.calcArea()); // Output: 48\n",
    "const rect7 = new Rectangle(24,2):\n",
    "console.log(rect7.calcArea()); // Output: 48 \n",
    "const rect8 = new Rectangle(48,1):\n",
    "console.log(rect8.calcArea()); // Output: 48 \n"
   ]
  },
  {
   "cell_type": "markdown",
   "metadata": {},
   "source": [
    "#### Exercise 4: Rectangle Class (Missing Methods)"
   ]
  },
  {
   "cell_type": "code",
   "execution_count": 24,
   "metadata": {
    "vscode": {
     "languageId": "javascript"
    }
   },
   "outputs": [
    {
     "data": {
      "application/javascript": "class Rectangle {\n    constructor(width, height) {\n        this.width = width;\n        this.height = height;\n    }\n    // Add method to calculate the perimeter of the rectangle\n    getPerimeter() {\n        return 2 * (this.width + this.height); // Perimeter formula: 2 * (width + height)\n    }\n}\nconst rect = new Rectangle(10, 5);\nconsole.log(rect.getPerimeter()); // Output should be 30\n",
      "text/plain": [
       "<IPython.core.display.Javascript object>"
      ]
     },
     "metadata": {},
     "output_type": "display_data"
    }
   ],
   "source": [
    "%%js \n",
    "class Rectangle {\n",
    "    constructor(width, height) {\n",
    "        this.width = width;\n",
    "        this.height = height;\n",
    "    }\n",
    "    // Add method to calculate the perimeter of the rectangle\n",
    "    getPerimeter() {\n",
    "        return 2 * (this.width + this.height); // Perimeter formula: 2 * (width + height)\n",
    "    }\n",
    "}\n",
    "const rect = new Rectangle(10, 5);\n",
    "console.log(rect.getPerimeter()); // Output should be 30"
   ]
  },
  {
   "cell_type": "markdown",
   "metadata": {},
   "source": [
    "#### Exercise 5: Square Class (Missing Method)"
   ]
  },
  {
   "cell_type": "code",
   "execution_count": 25,
   "metadata": {
    "vscode": {
     "languageId": "javascript"
    }
   },
   "outputs": [
    {
     "data": {
      "application/javascript": "class Square {\n    constructor(sideLength) {\n        this.sideLength = sideLength;\n    }\n    // **Code missing**: Add method to calculate the diagonal of the square\n    getDiagonal() {\n        return this.sideLength * Math.sqrt(2);\n        // Add logic here to calculate and return the diagonal\n    }\n}\nconst square = new Square(5);\nconsole.log(square.getDiagonal()); // Output should be 7.07 (sideLength * √2)\n",
      "text/plain": [
       "<IPython.core.display.Javascript object>"
      ]
     },
     "metadata": {},
     "output_type": "display_data"
    }
   ],
   "source": [
    "%%js \n",
    "class Square {\n",
    "    constructor(sideLength) {\n",
    "        this.sideLength = sideLength;\n",
    "    }\n",
    "    // **Code missing**: Add method to calculate the diagonal of the square\n",
    "    getDiagonal() {\n",
    "        return this.sideLength * Math.sqrt(2);\n",
    "        // Add logic here to calculate and return the diagonal\n",
    "    }\n",
    "}\n",
    "const square = new Square(5);\n",
    "console.log(square.getDiagonal()); // Output should be 7.07 (sideLength * √2)"
   ]
  }
 ],
 "metadata": {
  "kernelspec": {
   "display_name": "Python 3",
   "language": "python",
   "name": "python3"
  },
  "language_info": {
   "codemirror_mode": {
    "name": "ipython",
    "version": 3
   },
   "file_extension": ".py",
   "mimetype": "text/x-python",
   "name": "python",
   "nbconvert_exporter": "python",
   "pygments_lexer": "ipython3",
   "version": "3.11.9"
  }
 },
 "nbformat": 4,
 "nbformat_minor": 2
}

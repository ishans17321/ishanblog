{
 "cells": [
  {
   "cell_type": "raw",
   "metadata": {
    "vscode": {
     "languageId": "raw"
    }
   },
   "source": [
    "---\n",
    "layout: post\n",
    "title: Arrays Homework\n",
    "description: Homework for arrays\n",
    "comments: false\n",
    "categories: [CSSE JavaScript Fundamentals]\n",
    "permalink: /csse/lessons/arrays/hw\n",
    "---"
   ]
  },
  {
   "cell_type": "markdown",
   "metadata": {},
   "source": [
    "# Homework!! #\n",
    "\n",
    "Your task is to fill in the following code to alter the arrays!"
   ]
  },
  {
   "cell_type": "markdown",
   "metadata": {},
   "source": [
    "# Lesson 1 Homework"
   ]
  },
  {
   "cell_type": "code",
   "execution_count": 10,
   "metadata": {
    "vscode": {
     "languageId": "javascript"
    }
   },
   "outputs": [
    {
     "data": {
      "application/javascript": "//We have an array made for you, but something's off...\nlet desserts = [\"lemon\",\"delete1\",\"ice cream\",\"chocolate cake\",\"key lime pie\",\"delete2\"];\n//We need to get rid of the elements labeled delete1 and delete2!\ndesserts.pop();  // which command gets rid of the last element in the array?\ndesserts.splice(desserts.indexOf(\"delete1\"), 1);  // which command will delete the delete1 element and how do you use it?\n\n//now that that's done... a lemon isn't a dessert unless you're weird... maybe change it to a lemon-themed dessert?\ndesserts[0] = \"lemon meringue pie\";  // \"put your lemon-themed dessert here :D\"\n\n//hint for the previous 2 fill-in-the-blanks: the indexing starts at 0\n\n//okay okay, you've proven your skills... now all that's left is to print the list!\nconsole.log(desserts);\n",
      "text/plain": [
       "<IPython.core.display.Javascript object>"
      ]
     },
     "metadata": {},
     "output_type": "display_data"
    }
   ],
   "source": [
    "%%js\n",
    "//We have an array made for you, but something's off...\n",
    "let desserts = [\"lemon\",\"delete1\",\"ice cream\",\"chocolate cake\",\"key lime pie\",\"delete2\"];\n",
    "//We need to get rid of the elements labeled delete1 and delete2!\n",
    "desserts.pop();  // which command gets rid of the last element in the array?\n",
    "desserts.splice(desserts.indexOf(\"delete1\"), 1);  // which command will delete the delete1 element and how do you use it?\n",
    "\n",
    "//now that that's done... a lemon isn't a dessert unless you're weird... maybe change it to a lemon-themed dessert?\n",
    "desserts[0] = \"lemon meringue pie\";  // \"put your lemon-themed dessert here :D\"\n",
    "\n",
    "//hint for the previous 2 fill-in-the-blanks: the indexing starts at 0\n",
    "\n",
    "//okay okay, you've proven your skills... now all that's left is to print the list!\n",
    "console.log(desserts);\n"
   ]
  },
  {
   "cell_type": "markdown",
   "metadata": {},
   "source": [
    "# Lesson 2 Homework - Part 1"
   ]
  },
  {
   "cell_type": "code",
   "execution_count": 11,
   "metadata": {
    "vscode": {
     "languageId": "javascript"
    }
   },
   "outputs": [
    {
     "data": {
      "application/javascript": "// Creating a list with some repeating elements (you can modify this list to your liking).\nlet list = [3, 7, 4, 2, 7, 1, 6];  // '7' is the repeating element.\n\n// Use a for loop to iterate through each element in the array and print its index.\nfor (let i = 0; i < list.length; i++) {\n    console.log(\"Index of element \" + list[i] + \": \" + i);  // Prints the index of each element.\n}\n\n// Find the last occurrence of the repeated element ('7' in this case).\nlet lastIndex = list.lastIndexOf(7);  // 'lastIndexOf()' gives us the last index of the element '7'.\nconsole.log(\"Last occurrence of 7 is at index: \" + lastIndex);  // Prints the index of the last occurrence of 7.\n",
      "text/plain": [
       "<IPython.core.display.Javascript object>"
      ]
     },
     "metadata": {},
     "output_type": "display_data"
    }
   ],
   "source": [
    "%%js\n",
    "// Creating a list with some repeating elements (you can modify this list to your liking).\n",
    "let list = [3, 7, 4, 2, 7, 1, 6];  // '7' is the repeating element.\n",
    "\n",
    "// Use a for loop to iterate through each element in the array and print its index.\n",
    "for (let i = 0; i < list.length; i++) {\n",
    "    console.log(\"Index of element \" + list[i] + \": \" + i);  // Prints the index of each element.\n",
    "}\n",
    "\n",
    "// Find the last occurrence of the repeated element ('7' in this case).\n",
    "let lastIndex = list.lastIndexOf(7);  // 'lastIndexOf()' gives us the last index of the element '7'.\n",
    "console.log(\"Last occurrence of 7 is at index: \" + lastIndex);  // Prints the index of the last occurrence of 7.\n"
   ]
  },
  {
   "cell_type": "markdown",
   "metadata": {},
   "source": [
    "# Lesson 2 Homework - Part 2"
   ]
  },
  {
   "cell_type": "markdown",
   "metadata": {
    "vscode": {
     "languageId": "javascript"
    }
   },
   "source": [
    "You're done with your homework!!"
   ]
  }
 ],
 "metadata": {
  "kernelspec": {
   "display_name": "Python 3",
   "language": "python",
   "name": "python3"
  },
  "language_info": {
   "codemirror_mode": {
    "name": "ipython",
    "version": 3
   },
   "file_extension": ".py",
   "mimetype": "text/x-python",
   "name": "python",
   "nbconvert_exporter": "python",
   "pygments_lexer": "ipython3",
   "version": "3.11.9"
  }
 },
 "nbformat": 4,
 "nbformat_minor": 2
}

{
 "cells": [
  {
   "cell_type": "raw",
   "metadata": {
    "vscode": {
     "languageId": "raw"
    }
   },
   "source": [
    "---\n",
    "layout: post\n",
    "title: Nested Conditionals Homework\n",
    "description:  Homework for nested conditonals\n",
    "type: collab \n",
    "comments: false\n",
    "categories: [CSSE JavaScript Fundametals]\n",
    "permalink: /csse/lessons/nestedconditionals/hw\n",
    "---"
   ]
  },
  {
   "cell_type": "markdown",
   "metadata": {},
   "source": [
    "### Homework Objectives\n",
    "\n",
    "You and your friend want to do different things at the amusement park. To decide, you do a coin flip. Heads means that you get to choose where to go and tails means that your friend gets to choose. If you go on a ride, be sure to check if you are the right height and have enough tickets, and if you go to a food stand, make sure that you have enough money and that the food is in stock. Be creative, and make sure to use nested conditionals!"
   ]
  },
  {
   "cell_type": "markdown",
   "metadata": {},
   "source": [
    "### Instructions\n",
    "\n",
    "1) Create a JavaScript file (Ex. insertName.js)\n",
    "\n",
    "2) Plan out what you will be doing and make variables for the necessary things. There will be a coin flip, so make a variable for that. If there are rides, make a value for the amount of tickets the person has and what height they are. If they go to a food stand, you can make a variable for the amount of money that you have and if the food is in stock.\n",
    "\n",
    "3) Use Math.random() for the coin flip. This generates a number between 0 and 1, so then you multiply this value by 2 and put it inside Math.floor() to round down and get either 0 or 1. Make this the coin flip variable.\n",
    "\n",
    "4) Use an if statement to check what the result of the coin flip was and use console.log to print out a statement to see who won or lost the coin flip. Along with that, print out where they are going next.\n",
    "\n",
    "5) Use more if statements inside of if statements to check if the person can do what they want to do. (Are they tall enough, do they have enough money, etc.)\n",
    "\n",
    "6) After all the checks, print out a result of what happened. If you get stuck, you can look at the examples in the popcorn hacks. Please don't copy and paste, though! \n"
   ]
  },
  {
   "cell_type": "raw",
   "metadata": {},
   "source": []
  },
  {
   "cell_type": "code",
   "execution_count": 2,
   "metadata": {
    "vscode": {
     "languageId": "javascript"
    }
   },
   "outputs": [
    {
     "ename": "SyntaxError",
     "evalue": "unterminated string literal (detected at line 44) (974314424.py, line 44)",
     "output_type": "error",
     "traceback": [
      "\u001b[1;36m  Cell \u001b[1;32mIn[2], line 44\u001b[1;36m\u001b[0m\n\u001b[1;33m    console.log(`${isFriend ? \"your friend\" : \"you\"} don't have enough tickets to go on the ride.`);        }\u001b[0m\n\u001b[1;37m                                                        ^\u001b[0m\n\u001b[1;31mSyntaxError\u001b[0m\u001b[1;31m:\u001b[0m unterminated string literal (detected at line 44)\n"
     ]
    }
   ],
   "source": [
    "// amusement park decision-making\n",
    "\n",
    "// step 1: define the necessary variables\n",
    "let coinFlip = Math.floor(Math.random() * 2); // generates 0 or 1 for heads or tails\n",
    "let tickets = 250; // number of tickets available (increased to 200)\n",
    "let height = 120; // height of the person in cm\n",
    "let money = 20; // amount of money available in dollars\n",
    "let foodInStock = true; // boolean indicating if food is available\n",
    "\n",
    "// step 2: define ride and food requirements\n",
    "const rideTicketCost = 30; // increased ticket cost to 30 for each ride\n",
    "const minHeight = 110; // minimum height required for a ride\n",
    "const foodCost = 15; // cost of food in dollars\n",
    "\n",
    "// step 3: define ride names\n",
    "const rides = [\n",
    "    \"the roller coaster of doom\",\n",
    "    \"the ferris wheel of fun\",\n",
    "    \"the space rocket adventure\",\n",
    "    \"the pirate ship of terror\",\n",
    "    \"the ghost train of frights\"\n",
    "];\n",
    "\n",
    "// step 4: coin flip result to decide who chooses\n",
    "if (coinFlip === 0) {\n",
    "    console.log(\"heads! you get to choose what to do.\");\n",
    "} else {\n",
    "    console.log(\"tails! your friend gets to choose what to do.\");\n",
    "}\n",
    "\n",
    "// step 5: go on all 5 rides for both friends\n",
    "console.log(\"you and your friend are going to go on all five rides!\");\n",
    "\n",
    "// function to handle going on a ride\n",
    "function goOnRide(rideName, isFriend) {\n",
    "    console.log(`${isFriend ? \"your friend\" : \"you\"} are about to go on the ride: ${rideName}`);\n",
    "    \n",
    "    // check if both friends are tall enough and have enough tickets\n",
    "    if (height >= minHeight) {\n",
    "        if (tickets >= rideTicketCost) {\n",
    "            tickets -= rideTicketCost; // deduct tickets\n",
    "            console.log(`${isFriend ? \"your friend\" : \"you\"} went on the ride! tickets remaining: ${tickets}`);\n",
    "        } else {\n",
    "            console.log(`${isFriend ? \"your friend\" : \"you\"} don't have enough tickets to go on the ride.`);        }\n",
    "    } else {\n",
    "        console.log(`${isFriend ? \"your friend\" : \"you\"} are not tall enough to go on the ride.`);\n",
    "    }\n",
    "}\n",
    "\n",
    "// loop through all rides for both friends (each friend can only go on each ride once)\n",
    "rides.forEach((ride, index) => {\n",
    "    console.log(`\\nride ${index + 1}: ${ride}`);\n",
    "    goOnRide(ride, false); // first friend goes on the ride\n",
    "    goOnRide(ride, true); // second friend goes on the ride\n",
    "});\n",
    "\n",
    "// step 6: after all rides, your friend chooses food\n",
    "console.log(\"\\nafter the rides, it's time for food!\");\n",
    "\n",
    "// display available food stalls\n",
    "const foodStalls = [\"burger stand\", \"pizza stand\", \"cake stand\"];\n",
    "console.log(\"here are the available food stalls:\");\n",
    "foodStalls.forEach((stall, index) => {\n",
    "    console.log(`${index + 1}: ${stall}`);\n",
    "});\n",
    "\n",
    "// nested conditionals for food (random choice)\n",
    "let selectedFood = Math.floor(Math.random() * foodStalls.length); // randomly select a food stall\n",
    "console.log(`your friend decides to go to the ${foodStalls[selectedFood]}`);\n",
    "\n",
    "if (foodInStock) {\n",
    "    if (money >= foodCost) {\n",
    "        money -= foodCost; // deduct money\n",
    "        console.log(`your friend bought food. money remaining: $${money}`);\n",
    "    } else {\n",
    "        console.log(\"your friend doesn't have enough money to buy food.\");\n",
    "    }\n",
    "} else {\n",
    "    console.log(\"the food is out of stock.\");\n",
    "}\n",
    "\n",
    "// final result\n",
    "console.log(\"enjoy your day at the amusement park!\");\n"
   ]
  }
 ],
 "metadata": {
  "kernelspec": {
   "display_name": "Python 3",
   "language": "python",
   "name": "python3"
  },
  "language_info": {
   "codemirror_mode": {
    "name": "ipython",
    "version": 3
   },
   "file_extension": ".py",
   "mimetype": "text/x-python",
   "name": "python",
   "nbconvert_exporter": "python",
   "pygments_lexer": "ipython3",
   "version": "3.11.9"
  }
 },
 "nbformat": 4,
 "nbformat_minor": 2
}

{
 "cells": [
  {
   "cell_type": "raw",
   "metadata": {
    "vscode": {
     "languageId": "raw"
    }
   },
   "source": [
    "---\n",
    "layout: post\n",
    "title: Conditionals Popcorn Hacks\n",
    "description: Popcorn hacks for conditionals!\n",
    "categories: [CSSE JavaScript Fundamentals]\n",
    "type: collab\n",
    "permalink: /csse/lessons/conditions/ph\n",
    "author: Yasna Ahmadi, Katherine Law, Yuna Lee, Namira Sharif\n",
    "toc: true\n",
    "---"
   ]
  },
  {
   "cell_type": "markdown",
   "metadata": {},
   "source": [
    "# Popcorn Hacks!\n",
    "You're at the mall with your friends, and head into the Build-A-Bear store. Use conditionals to decide what kind of bear you want with different accessories! The employee comes up to you and explains the steps. She states...\n",
    "\n",
    "\"Choose Me: Pick that special furry friend — from a silly superhero to a sporty mascot and a cheerleading bunny to a snuggly teddy bear.\n",
    "Hear Me: Add a special sound effect to your furry friend.\n",
    "Stuff Me: Customize your creation with sounds, scents, stuffing and, of course, our iconic special heart that holds your love and wishes.\n",
    "Hug Me: Give your furry friend its first hug to make sure it’s stuffed just right.\n",
    "Dress Me: Turn up the fun with outfits and extras!\n",
    "Name Me: It’s official once your creation has a birth certificate of its bear-y own!\"\n",
    "\n",
    "### Hack 1: Simple If-Statement\n",
    "Create a variable based on what kind of stuffed animal you want."
   ]
  },
  {
   "cell_type": "code",
   "execution_count": 11,
   "metadata": {
    "vscode": {
     "languageId": "javascript"
    }
   },
   "outputs": [
    {
     "data": {
      "application/javascript": "let sharkType = \"Great White\"; // Choose what kind of shark you want: Great White or Hammerhead (Example: let sharkType = \"Great White\")\n\nif (sharkType === \"Great White\") { // Put the same shark type from above into this line\n  console.log(\"You picked a fearsome Great White shark!\");\n}\n",
      "text/plain": [
       "<IPython.core.display.Javascript object>"
      ]
     },
     "metadata": {},
     "output_type": "display_data"
    }
   ],
   "source": [
    "%%js \n",
    "let sharkType = \"Great White\"; // Choose what kind of shark you want: Great White or Hammerhead (Example: let sharkType = \"Great White\")\n",
    "\n",
    "if (sharkType === \"Great White\") { // Put the same shark type from above into this line\n",
    "  console.log(\"You picked a fearsome Great White shark!\");\n",
    "}"
   ]
  },
  {
   "cell_type": "markdown",
   "metadata": {},
   "source": [
    "### Hack 2: If-Else Statement\n",
    "Add a sound to the bear based on the type chosen."
   ]
  },
  {
   "cell_type": "code",
   "execution_count": 3,
   "metadata": {
    "vscode": {
     "languageId": "javascript"
    }
   },
   "outputs": [
    {
     "data": {
      "application/javascript": "let bearType = \"Teddy\"; //Put the same bear type as before.\n\nif (bearType ===\"Teddy\") {\n    console.log(\"Your Teddy snores...\");\n} else {\n    console.log(\"Your Unicorn neighs loud...\")\n}\n",
      "text/plain": [
       "<IPython.core.display.Javascript object>"
      ]
     },
     "metadata": {},
     "output_type": "display_data"
    }
   ],
   "source": [
    "%%js \n",
    "let sharkType = \"Great White\"; // Put the same shark type as before.\n",
    "\n",
    "if (sharkType === \"Great White\") {\n",
    "  console.log(\"Your Great White shark makes a 'Grrrrr' sound.\");\n",
    "} else {\n",
    "  console.log(\"Your Hammerhead shark makes a 'Thump thump' sound.\");\n",
    "}"
   ]
  },
  {
   "cell_type": "markdown",
   "metadata": {},
   "source": [
    "### Hack 3: Else-If Statement\n",
    "Choose the stuffing type using an If-Else-If statement"
   ]
  },
  {
   "cell_type": "code",
   "execution_count": 5,
   "metadata": {
    "vscode": {
     "languageId": "javascript"
    }
   },
   "outputs": [
    {
     "data": {
      "application/javascript": "let stuffingType = \"Squishy\"; //Choose a stuffing: Fluffy, Firm, or Squishy\n\nif (stuffingType === \"Fluffy\") {\n    console.log(\"Your bear will be extra soft and fluffy!\");\n} else if (stuffingType === \"Firm\") {\n    console.log (\"Your bear will have a firm, sturdy feel.\");\n} else {\n    console.log(\"Your bear will be nice and squishy!\");\n}\n",
      "text/plain": [
       "<IPython.core.display.Javascript object>"
      ]
     },
     "metadata": {},
     "output_type": "display_data"
    }
   ],
   "source": [
    "%%js \n",
    "let finType = \"Dorsal\"; // Choose a fin: Dorsal, Tail, or Unique\n",
    "\n",
    "if (finType === \"Dorsal\") {\n",
    "  console.log(\"Your shark has a sleek Dorsal fin.\");\n",
    "} else if (finType === \"Tail\") {\n",
    "  console.log(\"Your shark has a powerful Tail fin.\");\n",
    "} else {\n",
    "  console.log(\"Your shark has a unique fin!\");\n",
    "}"
   ]
  },
  {
   "cell_type": "markdown",
   "metadata": {},
   "source": [
    "### Hack 4: Switch Statement\n",
    "Use a switch statement to pick a bear outfit"
   ]
  },
  {
   "cell_type": "code",
   "execution_count": 6,
   "metadata": {
    "vscode": {
     "languageId": "javascript"
    }
   },
   "outputs": [
    {
     "data": {
      "application/javascript": "let bearOutfit = \"Superhero\"; // Choose an outfit: \"Superhero\", \"Cheerleader\", \"Pirate\", \"Princess\"\n\nswitch (bearOutfit) {\n    case \"Superhero\":\n        console.log(\"Your bear is ready to save the day in a Superhero costume!\");\n        break;\n    case \"Cheerleader\":\n        console.log(\"Your bear will cheer with its Cheerleader outfit!\");\n        break;\n    case \"Pirate\":\n        console.log(\"Ahoy! Your bear is ready to sail in a Pirate costume!\");\n        break;\n    default:\n        console.log(\"Your bear is ready for a royal adventure in a Princess outfit!\");\n}\n",
      "text/plain": [
       "<IPython.core.display.Javascript object>"
      ]
     },
     "metadata": {},
     "output_type": "display_data"
    }
   ],
   "source": [
    "%%js \n",
    "let sharkOutfit = \"Pirate\"; // Choose an outfit: \"Pirate\", \"Superhero\", \"Cheerleader\", \"Underwater Explorer\"\n",
    "\n",
    "switch (sharkOutfit) {\n",
    "  case \"Pirate\":\n",
    "    console.log(\"Ahoy! Your shark is ready to sail in a Pirate costume!\");\n",
    "    break;\n",
    "  case \"Superhero\":\n",
    "    console.log(\"Your shark is ready to save the day in a Superhero costume!\");\n",
    "    break;\n",
    "  case \"Cheerleader\":\n",
    "    console.log(\"Your shark will cheer with its Cheerleader outfit!\");\n",
    "    break;\n",
    "  default:\n",
    "    console.log(\"Your shark is ready for an underwater adventure in an Underwater Explorer outfit!\");\n",
    "}"
   ]
  },
  {
   "cell_type": "markdown",
   "metadata": {},
   "source": [
    "### Hack 5: Complete Build-A-Bear Experience\n",
    "Combine all conditionals to create new types of bears, stuffings, and outfits in a single code cell!"
   ]
  },
  {
   "cell_type": "code",
   "execution_count": 12,
   "metadata": {
    "vscode": {
     "languageId": "javascript"
    }
   },
   "outputs": [
    {
     "data": {
      "application/javascript": "let sharkType = \"Great White\"; // Make a type of shark!\nlet finType = \"Dorsal\"; // Choose a type of fin!\nlet sharkOutfit = \"Pirate\"; // Create your own outfit!\n\n// Step 1: Choose Me\nif (sharkType === \"Great White\") { // Choose a shark type\n  console.log(\"You picked a fearsome Great White shark!\"); // Create a console message for the specified shark type\n} else if (sharkType === \"Hammerhead\") {\n  console.log(\"You picked a curious Hammerhead shark!\");\n} else {\n  console.log(\"You picked a random shark!\");\n}\n\n// Step 2: Hear Me\nif (sharkType === \"Great White\") {\n  console.log(\"Your Great White shark makes a 'Grrrrr' sound.\");\n} else {\n  console.log(\"Your Hammerhead shark makes a 'Thump thump' sound.\");\n}\n\n// Step 3: Fin Me\nif (finType === \"Dorsal\") {\n  console.log(\"Your shark has a sleek Dorsal fin.\");\n} else if (finType === \"Tail\") {\n  console.log(\"Your shark has a powerful Tail fin.\");\n} else {\n  console.log(\"Your shark has a unique fin!\");\n}\n\n// Step 4: Dress Me\nswitch (sharkOutfit) {\n  case \"Pirate\":\n    console.log(\"Ahoy! Your shark is ready to sail in a Pirate costume!\");\n    break;\n  case \"Superhero\":\n    console.log(\"Your shark is ready to save the day in a Superhero costume!\");\n    break;\n  case \"Cheerleader\":\n    console.log(\"Your shark will cheer with its Cheerleader outfit!\");\n    break;\n  default:\n    console.log(\"Your shark is ready for a royal adventure in a Princess outfit!\");\n}\n",
      "text/plain": [
       "<IPython.core.display.Javascript object>"
      ]
     },
     "metadata": {},
     "output_type": "display_data"
    }
   ],
   "source": [
    "%%js \n",
    "let sharkType = \"Great White\"; // Make a type of shark!\n",
    "let finType = \"Dorsal\"; // Choose a type of fin!\n",
    "let sharkOutfit = \"Pirate\"; // Create your own outfit!\n",
    "\n",
    "// Step 1: Choose Me\n",
    "if (sharkType === \"Great White\") { // Choose a shark type\n",
    "  console.log(\"You picked a fearsome Great White shark!\"); // Create a console message for the specified shark type\n",
    "} else if (sharkType === \"Hammerhead\") {\n",
    "  console.log(\"You picked a curious Hammerhead shark!\");\n",
    "} else {\n",
    "  console.log(\"You picked a random shark!\");\n",
    "}\n",
    "\n",
    "// Step 2: Hear Me\n",
    "if (sharkType === \"Great White\") {\n",
    "  console.log(\"Your Great White shark makes a 'Grrrrr' sound.\");\n",
    "} else {\n",
    "  console.log(\"Your Hammerhead shark makes a 'Thump thump' sound.\");\n",
    "}\n",
    "\n",
    "// Step 3: Fin Me\n",
    "if (finType === \"Dorsal\") {\n",
    "  console.log(\"Your shark has a sleek Dorsal fin.\");\n",
    "} else if (finType === \"Tail\") {\n",
    "  console.log(\"Your shark has a powerful Tail fin.\");\n",
    "} else {\n",
    "  console.log(\"Your shark has a unique fin!\");\n",
    "}\n",
    "\n",
    "// Step 4: Dress Me\n",
    "switch (sharkOutfit) {\n",
    "  case \"Pirate\":\n",
    "    console.log(\"Ahoy! Your shark is ready to sail in a Pirate costume!\");\n",
    "    break;\n",
    "  case \"Superhero\":\n",
    "    console.log(\"Your shark is ready to save the day in a Superhero costume!\");\n",
    "    break;\n",
    "  case \"Cheerleader\":\n",
    "    console.log(\"Your shark will cheer with its Cheerleader outfit!\");\n",
    "    break;\n",
    "  default:\n",
    "    console.log(\"Your shark is ready for a royal adventure in a Princess outfit!\");\n",
    "}"
   ]
  }
 ],
 "metadata": {
  "kernelspec": {
   "display_name": "Python 3",
   "language": "python",
   "name": "python3"
  },
  "language_info": {
   "codemirror_mode": {
    "name": "ipython",
    "version": 3
   },
   "file_extension": ".py",
   "mimetype": "text/x-python",
   "name": "python",
   "nbconvert_exporter": "python",
   "pygments_lexer": "ipython3",
   "version": "3.11.9"
  }
 },
 "nbformat": 4,
 "nbformat_minor": 2
}

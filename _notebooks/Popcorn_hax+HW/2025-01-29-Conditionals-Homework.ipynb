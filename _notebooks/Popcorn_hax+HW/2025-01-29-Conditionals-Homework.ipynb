{
 "cells": [
  {
   "cell_type": "raw",
   "metadata": {
    "vscode": {
     "languageId": "raw"
    }
   },
   "source": [
    "---\n",
    "layout: post\n",
    "title: Conditionals Homework\n",
    "description: Homework after conditionals lesson \n",
    "categories: [CSSE JavaScript Fundamentals]\n",
    "type: collab\n",
    "permalink: /csse/lessons/conditions/hw\n",
    "author: Yasna Ahmadi, Katherine Law, Yuna Lee, Namira Sharif\n",
    "toc: true\n",
    "---"
   ]
  },
  {
   "cell_type": "markdown",
   "metadata": {},
   "source": [
    "\n",
    "## Homeworks  \n",
    "\n",
    "\n",
    "### Part 1:\n",
    " Choose one from the three options to make a conditonal statement and if help is needed, use the Format at the bottom of the page.\n",
    "\n",
    "#### Option 1: Grade Checker \n",
    "Example for the grade checker:\n",
    "\n",
    "\"F\" if the grade is below 60.\n",
    "\"D\" if the grade is between 60 and 69.\n",
    "\"C\" if the grade is between 70 and 79.\n",
    "\"B\" if the grade is between 80 and 89.\n",
    "\"A\" if the grade is 90 or above.\n",
    "\n"
   ]
  },
  {
   "cell_type": "code",
   "execution_count": 1,
   "metadata": {},
   "outputs": [
    {
     "data": {
      "application/javascript": "let grade = 85;\n\nif (grade < 60) {\n  console.log(\"F\");\n} else if (grade < 70) {\n  console.log(\"D\");\n} else if (grade < 80) {\n  console.log(\"C\");\n} else if (grade < 90) {\n  console.log(\"B\");\n} else {\n  console.log(\"A\");\n}\n",
      "text/plain": [
       "<IPython.core.display.Javascript object>"
      ]
     },
     "metadata": {},
     "output_type": "display_data"
    }
   ],
   "source": [
    "%%js\n",
    "let grade = 85;\n",
    "\n",
    "if (grade < 60) {\n",
    "  console.log(\"F\");\n",
    "} else if (grade < 70) {\n",
    "  console.log(\"D\");\n",
    "} else if (grade < 80) {\n",
    "  console.log(\"C\");\n",
    "} else if (grade < 90) {\n",
    "  console.log(\"B\");\n",
    "} else {\n",
    "  console.log(\"A\");\n",
    "}"
   ]
  },
  {
   "cell_type": "markdown",
   "metadata": {},
   "source": [
    "#### Option 2: Weather app\n",
    "Example for a weather app:\n",
    "\n",
    "If the weather is sunny, print: \"It's a great day to go outside!\"\n",
    "If the weather is rainy, print: \"Don't forget your umbrella!\"\n",
    "If the weather is snowy, print: \"Stay warm and safe!\"\n"
   ]
  },
  {
   "cell_type": "code",
   "execution_count": null,
   "metadata": {},
   "outputs": [],
   "source": [
    "%%js \n",
    "let weather = \"rainy\";\n",
    "\n",
    "if (weather === \"sunny\") {\n",
    "  console.log(\"It's a great day to go outside!\");\n",
    "} else if (weather === \"rainy\") {\n",
    "  console.log(\"Don't forget your umbrella!\");\n",
    "} else if (weather === \"snowy\") {\n",
    "  console.log(\"Stay warm and safe!\");\n",
    "}"
   ]
  },
  {
   "cell_type": "markdown",
   "metadata": {},
   "source": [
    "#### Option 3: Character Health Status\n",
    "Example for a character health status:\n",
    "\n",
    "If the health is 0, print: \"Your character is dead.\"\n",
    "If the health is between 1 and 25, print: \"Critical condition! Find a health pack!\"\n",
    "If the health is between 26 and 75, print: \"Your character is wounded. Be cautious.\"\n",
    "If the health is above 75, print: \"Your character is healthy and ready for action!\"\n"
   ]
  },
  {
   "cell_type": "code",
   "execution_count": null,
   "metadata": {},
   "outputs": [
    {
     "data": {
      "application/javascript": "let health = 50;\n\nif (health === 0) {\n  console.log(\"Your character is dead.\");\n} else if (health <= 25) {\n  console.log(\"Critical condition! Find a health pack!\");\n} else if (health <= 75) {\n  console.log(\"Your character is wounded. Be cautious.\");\n} else {\n  console.log(\"Your character is healthy and ready for action!\");\n}\n",
      "text/plain": [
       "<IPython.core.display.Javascript object>"
      ]
     },
     "metadata": {},
     "output_type": "display_data"
    }
   ],
   "source": [
    "%%js \n",
    "let health = 50;\n",
    "\n",
    "if (health === 0) {\n",
    "  console.log(\"Your character is dead.\");\n",
    "} else if (health <= 25) {\n",
    "  console.log(\"Critical condition! Find a health pack!\");\n",
    "} else if (health <= 75) {\n",
    "  console.log(\"Your character is wounded. Be cautious.\");\n",
    "} else {\n",
    "  console.log(\"Your character is healthy and ready for action!\");\n",
    "}"
   ]
  },
  {
   "cell_type": "markdown",
   "metadata": {},
   "source": [
    "### Part 2:\n",
    " Make another conditional statement with your idea.\n",
    "\n",
    " Make any If-Then, If, or Then-If statements with different ideas.\n",
    "\n",
    "\n",
    "##### Format: "
   ]
  },
  {
   "cell_type": "code",
   "execution_count": 6,
   "metadata": {
    "vscode": {
     "languageId": "javascript"
    }
   },
   "outputs": [
    {
     "data": {
      "application/javascript": "let tennisShot = \"forehand\";\nlet speed = 80;\n\nif (tennisShot === \"forehand\" && speed > 100) {\n  console.log(\"That was a powerful forehand!\");\n} else if (tennisShot === \"forehand\" && speed <= 100) {\n  console.log(\"That was a good forehand, but it could use a little more power.\");\n} else if (tennisShot === \"backhand\") {\n  console.log(\"Nice backhand!\");\n} else {\n  console.log(\"That was a great shot!\");\n}\n",
      "text/plain": [
       "<IPython.core.display.Javascript object>"
      ]
     },
     "metadata": {},
     "output_type": "display_data"
    }
   ],
   "source": [
    "%%js \n",
    "let tennisShot = \"forehand\";\n",
    "let speed = 80;\n",
    "\n",
    "if (tennisShot === \"forehand\" && speed > 100) {\n",
    "  console.log(\"That was a powerful forehand!\");\n",
    "} else if (tennisShot === \"forehand\" && speed <= 100) {\n",
    "  console.log(\"That was a good forehand, but it could use a little more power.\");\n",
    "} else if (tennisShot === \"backhand\") {\n",
    "  console.log(\"Nice backhand!\");\n",
    "} else {\n",
    "  console.log(\"That was a great shot!\");\n",
    "}"
   ]
  },
  {
   "cell_type": "markdown",
   "metadata": {
    "vscode": {
     "languageId": "raw"
    }
   },
   "source": [
    "##### After testing any of the options, revise it and make another one from the options.\n"
   ]
  }
 ],
 "metadata": {
  "kernelspec": {
   "display_name": "Python 3",
   "language": "python",
   "name": "python3"
  },
  "language_info": {
   "codemirror_mode": {
    "name": "ipython",
    "version": 3
   },
   "file_extension": ".py",
   "mimetype": "text/x-python",
   "name": "python",
   "nbconvert_exporter": "python",
   "pygments_lexer": "ipython3",
   "version": "3.11.9"
  }
 },
 "nbformat": 4,
 "nbformat_minor": 2
}

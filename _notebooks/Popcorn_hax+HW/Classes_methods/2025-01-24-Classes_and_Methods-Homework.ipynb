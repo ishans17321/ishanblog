{
 "cells": [
  {
   "cell_type": "raw",
   "metadata": {
    "vscode": {
     "languageId": "raw"
    }
   },
   "source": [
    "---\n",
    "comments: true\n",
    "layout: post\n",
    "title: JavaScript Classes & Methods Homework\n",
    "description: JavaScript Classes & Methods Homework\n",
    "permalink: /csse/lessons/classes_and_methods/hw/\n",
    "categories: [CSSE JavaScript Fundamentals]\n",
    "---"
   ]
  },
  {
   "cell_type": "markdown",
   "metadata": {},
   "source": [
    "## Fridge mini game\n",
    "In the code cell below i would like for you to create a fun fridge mini game where you are looking for a good midnight snack in the dark and you pul out a random food item good or bad.\n",
    "You should be able to complete this Homework activity within 15-20 minutes assuming you fully understand the content presented in our lesson. Alhtough, i do understand that some people may get stuck and need extra time to complete the homework. I think classes and methods are a really good thing to have on a large scale project. Although you could make the game below work with different methoods. Please do not use `chat gpt` I worked hard making this.\n",
    "# What to Do\n",
    "I want you to look through the code and complete the missing pieces and write new code lines to make the game funtion.\n",
    "this is basically a `gambling simulator` but with food.\n",
    "I have porvided \"hints\" in the code.\n",
    "### if you want a challenge dont read the <span style=\"color: green;\">GREEN</span>\n",
    "the green next to code it the real hint if you look at the // above there is description of what you need to do\n",
    "starting from a little above the bottom at the fill in the blank or top is the easiest the `middle is the hardest`.\n",
    "## Grab item\n",
    "I want you to Create a grab item function that will reference the class to randomly pick a food item"
   ]
  },
  {
   "cell_type": "code",
   "execution_count": 1,
   "metadata": {
    "vscode": {
     "languageId": "javascript"
    }
   },
   "outputs": [
    {
     "data": {
      "application/javascript": "// Fridge Mini-Game: Enhanced with scores and quality feedback\n\n// Create a class to represent the fridge mini-game\nclass FridgeGame {\n  // Constructor to initialize fridge items\n  constructor() {\n    // Array of items in the fridge with their scores\n    this.fridgeItems = [\n      { name: \"Piece of pizza\", score: 10 },\n      { name: \"Expired milk\", score: 1 },\n      { name: \"Ice cream\", score: 9 },\n      { name: \"Leftover\", score: 3 },\n      { name: \"Bag of spinach\", score: 5 },\n      { name: \"Chocolate bar\", score: 8 },\n      { name: \"Can of soda\", score: 6 },\n      { name: \"Rotten banana\", score: 2 },\n      { name: \"Fresh apple\", score: 7 },\n      { name: \"Stale bread\", score: 4 },\n    ];\n  }\n\n  // Method to pick a random item from the fridge\n  grabItem() {\n    // Generate a random index within the fridgeItems array\n    const randomIndex = Math.floor(Math.random() * this.fridgeItems.length);\n    // Return the randomly selected item\n    return this.fridgeItems[randomIndex];\n  }\n\n  // Method to classify the find based on its score\n  classifyFind(score) {\n    if (score >= 8) {\n      return \"excellent\"; // High scores mean great snacks\n    } else if (score >= 5) {\n      return \"decent\"; // Mid-range scores mean okay snacks\n    } else {\n      return \"terrible\"; // Low scores mean bad snacks\n    }\n  }\n\n  // Method to start the game\n  play() {\n    console.log(\"Let's grab a midnight snack from the fridge!\");\n    // Grab a random item\n    const item = this.grabItem();\n    console.log(`You found: ${item.name}`); // Log the item name\n    // Classify the item based on its score and get feedback\n    const feedback = this.classifyFind(item.score);\n    console.log(`It is ${feedback}. Score: ${item.score}`);\n  }\n}\n\n// Create an instance of the game\nconst fridgeGame = new FridgeGame();\n\n// Start the game by calling the play method\nfridgeGame.play();\n",
      "text/plain": [
       "<IPython.core.display.Javascript object>"
      ]
     },
     "metadata": {},
     "output_type": "display_data"
    }
   ],
   "source": [
    "%%js\n",
    "// Fridge Mini-Game: Enhanced with scores and quality feedback\n",
    "\n",
    "// Create a class to represent the fridge mini-game\n",
    "class FridgeGame {\n",
    "  // Constructor to initialize fridge items\n",
    "  constructor() {\n",
    "    // Array of items in the fridge with their scores\n",
    "    this.fridgeItems = [\n",
    "      { name: \"Piece of pizza\", score: 10 },\n",
    "      { name: \"Expired milk\", score: 1 },\n",
    "      { name: \"Ice cream\", score: 9 },\n",
    "      { name: \"Leftover\", score: 3 },\n",
    "      { name: \"Bag of spinach\", score: 5 },\n",
    "      { name: \"Chocolate bar\", score: 8 },\n",
    "      { name: \"Can of soda\", score: 6 },\n",
    "      { name: \"Rotten banana\", score: 2 },\n",
    "      { name: \"Fresh apple\", score: 7 },\n",
    "      { name: \"Stale bread\", score: 4 },\n",
    "    ];\n",
    "  }\n",
    "\n",
    "  // Method to pick a random item from the fridge\n",
    "  grabItem() {\n",
    "    // Generate a random index within the fridgeItems array\n",
    "    const randomIndex = Math.floor(Math.random() * this.fridgeItems.length);\n",
    "    // Return the randomly selected item\n",
    "    return this.fridgeItems[randomIndex];\n",
    "  }\n",
    "\n",
    "  // Method to classify the find based on its score\n",
    "  classifyFind(score) {\n",
    "    if (score >= 8) {\n",
    "      return \"excellent\"; // High scores mean great snacks\n",
    "    } else if (score >= 5) {\n",
    "      return \"decent\"; // Mid-range scores mean okay snacks\n",
    "    } else {\n",
    "      return \"terrible\"; // Low scores mean bad snacks\n",
    "    }\n",
    "  }\n",
    "\n",
    "  // Method to start the game\n",
    "  play() {\n",
    "    console.log(\"Let's grab a midnight snack from the fridge!\");\n",
    "    // Grab a random item\n",
    "    const item = this.grabItem();\n",
    "    console.log(`You found: ${item.name}`); // Log the item name\n",
    "    // Classify the item based on its score and get feedback\n",
    "    const feedback = this.classifyFind(item.score);\n",
    "    console.log(`It is ${feedback}. Score: ${item.score}`);\n",
    "  }\n",
    "}\n",
    "\n",
    "// Create an instance of the game\n",
    "const fridgeGame = new FridgeGame();\n",
    "\n",
    "// Start the game by calling the play method\n",
    "fridgeGame.play();\n"
   ]
  }
 ],
 "metadata": {
  "kernelspec": {
   "display_name": "Python 3",
   "language": "python",
   "name": "python3"
  },
  "language_info": {
   "codemirror_mode": {
    "name": "ipython",
    "version": 3
   },
   "file_extension": ".py",
   "mimetype": "text/x-python",
   "name": "python",
   "nbconvert_exporter": "python",
   "pygments_lexer": "ipython3",
   "version": "3.11.9"
  }
 },
 "nbformat": 4,
 "nbformat_minor": 2
}
